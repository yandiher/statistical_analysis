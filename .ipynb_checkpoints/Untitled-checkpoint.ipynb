{
 "cells": [
  {
   "cell_type": "code",
   "execution_count": 1,
   "id": "b1a2a4d9-edef-429e-9700-2bea649b6ae8",
   "metadata": {},
   "outputs": [],
   "source": [
    "import numpy as np\n",
    "import pandas as pd\n",
    "import time as t"
   ]
  },
  {
   "cell_type": "code",
   "execution_count": 2,
   "id": "134c4073-83de-434b-a06b-bcf6287869c8",
   "metadata": {},
   "outputs": [],
   "source": [
    "from sklearn.linear_model import LinearRegression, LogisticRegression\n",
    "from sklearn.tree import DecisionTreeRegressor, DecisionTreeClassifier\n",
    "from sklearn.ensemble import RandomForestRegressor, RandomForestClassifier, GradientBoostingRegressor, GradientBoostingClassifier\n",
    "from sklearn.svm import SVR, SVC\n",
    "from sklearn.neighbors import KNeighborsRegressor, KNeighborsClassifier\n",
    "from sklearn.neural_network import MLPRegressor, MLPClassifier\n",
    "\n",
    "from sklearn.metrics import ConfusionMatrixDisplay, classification_report, accuracy_score\n",
    "from sklearn.preprocessing import MinMaxScaler, StandardScaler, OneHotEncoder, OrdinalEncoder\n",
    "from sklearn.model_selection import train_test_split, GridSearchCV"
   ]
  },
  {
   "cell_type": "code",
   "execution_count": 3,
   "id": "f9ea87a3-afba-471b-929d-4a85440eb47f",
   "metadata": {},
   "outputs": [],
   "source": [
    "decision_tree = {\n",
    "    'ccp_alpha': [0.1, .01, .001],\n",
    "    'max_depth' : [5, 6, 7, 8, 9],\n",
    "    'criterion' :['gini', 'entropy']}\n",
    "\n",
    "random_forest = {\n",
    "    'n_estimators': [200, 500],\n",
    "    'max_depth' : [4, 5, 6, 7, 8],\n",
    "    'criterion' :['gini', 'entropy']}\n",
    "\n",
    "gradient_boosting = {\n",
    "    \"loss\":[\"deviance\"],\n",
    "    \"learning_rate\": [0.01, 0.025, 0.05, 0.075, 0.1, 0.15, 0.2],\n",
    "    \"min_samples_split\": np.linspace(0.1, 0.5, 12),\n",
    "    \"min_samples_leaf\": np.linspace(0.1, 0.5, 12),\n",
    "    \"max_depth\":[3,5,8],\n",
    "    \"criterion\": [\"friedman_mse\",  \"mae\"],\n",
    "    \"subsample\":[0.5, 0.618, 0.8, 0.85, 0.9, 0.95, 1.0],\n",
    "    \"n_estimators\":[10]}\n",
    "\n",
    "svm = {\n",
    "    'C': [0.1, 1, 10, 100, 1000],\n",
    "    'gamma': [1, 0.1, 0.01, 0.001, 0.0001],\n",
    "    'kernel': ['rbf','linear'],\n",
    "    'degree': [1, 2, 3, 4, 5, 6, 7]}\n",
    "\n",
    "knn = {\n",
    "    'n_neighbors': [1, 2, 3, 4, 5, 6, 7, 8, 9, 10, 11, 12, 13, 14, 15, 16, 17, 18, 19, 20, 21, 22, 23, 24, 25, 26, 27, 28, 29, 30], \n",
    "    'weights': ['uniform', 'distance']}\n",
    "\n",
    "neural_network = {\n",
    "    'solver': ['lbfgs'], \n",
    "    'max_iter': [500, 1000, 1100, 1200, 1300, 1400, 1500, 1600, 1700, 1800, 1900, 2000], \n",
    "    'alpha': 10.0 ** -np.arange(1, 10), \n",
    "    'hidden_layer_sizes':np.arange(10, 15), \n",
    "    'random_state': 42}\n"
   ]
  },
  {
   "cell_type": "code",
   "execution_count": 4,
   "id": "edf42131-2f7f-4d87-8f35-05d30bbfc1e2",
   "metadata": {},
   "outputs": [],
   "source": [
    "class machine_learning:\n",
    "    \"\"\"\n",
    "    machine_learning adalah kumpulan fungsi untuk membuat machine learning model.\n",
    "    x adalah dataset yang berisi fitur untuk memprediksi sesuatu.\n",
    "    y adalah dataset yang berisi target untuk menjadi tolok ukur\n",
    "    apakah akurasi machine_learning sudah baik atau masih buruk.\n",
    "    \"\"\"\n",
    "    # inisialisasi\n",
    "    def __init__(self, x, y):\n",
    "        self.x = x\n",
    "        self.y = y\n",
    "\n",
    "    # deal with categorical data\n",
    "    def categorical_transform(self):\n",
    "        \"\"\"\n",
    "        categorical_transform digunakan untuk mengubah data yang memiliki kolom kategorikal\n",
    "        untuk diubah menjadi boolean dan mengembalikan kembali menjadi kategorikal.\n",
    "        ...\n",
    "        x_encoder adalah hasil mengubah data dari kolom kategorikal ke boolean.\n",
    "        variabel x_encoder berbentuk sparse matrix.\n",
    "        tambahkan .toarray() untuk mengubah menjadi bentuk array.\n",
    "        ...\n",
    "        x_decoder adalah hasil mengubah kembali data kolom boolean ke kategorikal.\n",
    "        \"\"\"\n",
    "        self.onehot = OneHotEncoder(drop='first')\n",
    "        self.x_encoder = self.onehot.fit_transform(self.x).toarray()\n",
    "        self.x_decoder = self.onehot.inverse_transform(self.x_encoder)\n",
    "\n",
    "    # split data into train and test\n",
    "    def train_test(self, categorical=False):\n",
    "        \"\"\"\n",
    "        train_test digunakan membagi dataset menjadi dua bagian:\n",
    "        train dataset dan test dataset.\n",
    "        secara default, parameter categorical=False.\n",
    "        ...\n",
    "        jika argument True, train_test akan menggunakan dataset\n",
    "        yang sudah diubah dari kategorikal menjadi boolean.\n",
    "        jika argument False, train_test akan menggunakan dataset\n",
    "        murni yang dimasukan.\n",
    "        ...\n",
    "        x_train adalah dataset yang berisi fitur yang akan dilatih.\n",
    "        x_test adalah dataset yang berisi fitur yang akan dites.\n",
    "        y_train adalah dataset yang berisi target yang akan dilatih.\n",
    "        y_test adalah dataset yang berisi target yang akan dites.\n",
    "        \"\"\"\n",
    "        if categorical == True:\n",
    "            self.x_train, self.x_test, self.y_train, self.y_test = train_test_split(self.x_encoder, self.y, random_state=42, stratify=y)\n",
    "        else:\n",
    "            self.x_train, self.x_test, self.y_train, self.y_test = train_test_split(self.x, self.y, random_state=42, stratify=y)\n",
    "\n",
    "    # scale dataset\n",
    "    def scaler(self, scale=None):\n",
    "        \"\"\"\n",
    "        scaler digunakan untuk menyamakan skor tiap fitur yang skalanya berbeda-beda.\n",
    "        fitur A yang memiliki range 100-1000 dan fitur B yang memiliki range 4-9\n",
    "        akan mempersulit machine learning untuk mengolah data.\n",
    "        ada tiga pilihan untuk menggunakan scaler: minmax, standard, dan none.\n",
    "        ...\n",
    "        minmax akan mengubah skor semua fitur menjadi skala 0 hingga satu.\n",
    "        standard akan mengubah skor semua fitur menjadi mean=0, std=1.\n",
    "        none tidak akan mengubah skor fitur.\n",
    "        \"\"\"\n",
    "        if scale == 'minmax':\n",
    "            self.scala = MinMaxScaler()\n",
    "            self.x_train = self.scala.fit_transform(self.x_train)\n",
    "            self.x_test = self.scala.transform(self.x_test)\n",
    "        elif scale == 'standard':\n",
    "            self.scala = StandardScaler()\n",
    "            self.x_train = self.scala.fit_transform(self.x_train)\n",
    "            self.x_test = self.scala.transform(self.x_test)\n",
    "        else:\n",
    "            self.x_train = self.x_train\n",
    "            self.x_test = self.x_test         \n",
    "\n",
    "    def classification(self):\n",
    "        \"\"\"\n",
    "        classification digunakan untuk mencari algoritma terbaik\n",
    "        dari tujuh algoritma yang sudah dipilih, yaitu:\n",
    "        classic, decision_tree, random_forest, gradient_boosting,\n",
    "        svm, knn, dan multi_layer_perceptron.\n",
    "        outputnya adalah skor akurasi tiap model.\n",
    "        \"\"\"\n",
    "        self.classification_models = [\n",
    "            LogisticRegression(),\n",
    "            DecisionTreeClassifier(),\n",
    "            RandomForestClassifier(),\n",
    "            GradientBoostingClassifier(),\n",
    "            SVC(),\n",
    "            KNeighborsClassifier(),\n",
    "            MLPClassifier()]\n",
    "        \n",
    "        self.classification_names = [\n",
    "            'classic_classification',\n",
    "            'decision_tree',\n",
    "            'random_forest',\n",
    "            'gradient_boosting',\n",
    "            'support_vector_machine',\n",
    "            'k-nearest_neighbors',\n",
    "            'multi_layer_perceptron']\n",
    "\n",
    "        self.classification_acuracy = []\n",
    "        self.times = []\n",
    "        \n",
    "        for m in self.classification_models:\n",
    "            self.starting = round(t.time())\n",
    "            m.fit(self.x_train, self.y_train)\n",
    "            self.y_pred = m.predict(self.x_test)\n",
    "            self.score = accuracy_score(y_true=self.y_test, y_pred=self.y_pred)\n",
    "            self.classification_acuracy.append(self.score)\n",
    "            self.ending = round(t.time())\n",
    "            self.time_count = self.ending - self.starting\n",
    "            self.time_counts = str(self.time_count) + 's'\n",
    "            self.times.append(self.time_counts)\n",
    "\n",
    "        self.result = pd.DataFrame({\n",
    "            \"Algorithm\":self.classification_names, \n",
    "            'Accuracy':self.classification_acuracy, \n",
    "            'Time':self.times})\n",
    "        return self.result.sort_values(['Accuracy'],ascending=False)"
   ]
  },
  {
   "cell_type": "markdown",
   "id": "5c3128f8-6d24-41f1-8eac-c8667cf1fe11",
   "metadata": {},
   "source": [
    "| regression | classification |\n",
    "|:---:|:---:|\n",
    "| linear regression | logistic regression |\n",
    "| decision tree | decision tree |\n",
    "| random forest | random forest |\n",
    "| support vector machine | support vector machine |\n",
    "| k-nearest neighbors | k-nearest neighbors |\n",
    "| neural networks | neural networks |\n",
    "| gradient boosting | gradient boosting |"
   ]
  },
  {
   "cell_type": "code",
   "execution_count": 5,
   "id": "41415624-9f45-4a21-a995-dcc75839e4a7",
   "metadata": {},
   "outputs": [
    {
     "data": {
      "text/html": [
       "<div>\n",
       "<style scoped>\n",
       "    .dataframe tbody tr th:only-of-type {\n",
       "        vertical-align: middle;\n",
       "    }\n",
       "\n",
       "    .dataframe tbody tr th {\n",
       "        vertical-align: top;\n",
       "    }\n",
       "\n",
       "    .dataframe thead th {\n",
       "        text-align: right;\n",
       "    }\n",
       "</style>\n",
       "<table border=\"1\" class=\"dataframe\">\n",
       "  <thead>\n",
       "    <tr style=\"text-align: right;\">\n",
       "      <th></th>\n",
       "      <th>species</th>\n",
       "      <th>island</th>\n",
       "      <th>bill_length_mm</th>\n",
       "      <th>bill_depth_mm</th>\n",
       "      <th>flipper_length_mm</th>\n",
       "      <th>body_mass_g</th>\n",
       "      <th>sex</th>\n",
       "    </tr>\n",
       "  </thead>\n",
       "  <tbody>\n",
       "    <tr>\n",
       "      <th>0</th>\n",
       "      <td>Adelie</td>\n",
       "      <td>Torgersen</td>\n",
       "      <td>39.1</td>\n",
       "      <td>18.7</td>\n",
       "      <td>181.0</td>\n",
       "      <td>3750.0</td>\n",
       "      <td>MALE</td>\n",
       "    </tr>\n",
       "    <tr>\n",
       "      <th>1</th>\n",
       "      <td>Adelie</td>\n",
       "      <td>Torgersen</td>\n",
       "      <td>39.5</td>\n",
       "      <td>17.4</td>\n",
       "      <td>186.0</td>\n",
       "      <td>3800.0</td>\n",
       "      <td>FEMALE</td>\n",
       "    </tr>\n",
       "    <tr>\n",
       "      <th>2</th>\n",
       "      <td>Adelie</td>\n",
       "      <td>Torgersen</td>\n",
       "      <td>40.3</td>\n",
       "      <td>18.0</td>\n",
       "      <td>195.0</td>\n",
       "      <td>3250.0</td>\n",
       "      <td>FEMALE</td>\n",
       "    </tr>\n",
       "    <tr>\n",
       "      <th>4</th>\n",
       "      <td>Adelie</td>\n",
       "      <td>Torgersen</td>\n",
       "      <td>36.7</td>\n",
       "      <td>19.3</td>\n",
       "      <td>193.0</td>\n",
       "      <td>3450.0</td>\n",
       "      <td>FEMALE</td>\n",
       "    </tr>\n",
       "    <tr>\n",
       "      <th>5</th>\n",
       "      <td>Adelie</td>\n",
       "      <td>Torgersen</td>\n",
       "      <td>39.3</td>\n",
       "      <td>20.6</td>\n",
       "      <td>190.0</td>\n",
       "      <td>3650.0</td>\n",
       "      <td>MALE</td>\n",
       "    </tr>\n",
       "  </tbody>\n",
       "</table>\n",
       "</div>"
      ],
      "text/plain": [
       "  species     island  bill_length_mm  bill_depth_mm  flipper_length_mm  \\\n",
       "0  Adelie  Torgersen            39.1           18.7              181.0   \n",
       "1  Adelie  Torgersen            39.5           17.4              186.0   \n",
       "2  Adelie  Torgersen            40.3           18.0              195.0   \n",
       "4  Adelie  Torgersen            36.7           19.3              193.0   \n",
       "5  Adelie  Torgersen            39.3           20.6              190.0   \n",
       "\n",
       "   body_mass_g     sex  \n",
       "0       3750.0    MALE  \n",
       "1       3800.0  FEMALE  \n",
       "2       3250.0  FEMALE  \n",
       "4       3450.0  FEMALE  \n",
       "5       3650.0    MALE  "
      ]
     },
     "execution_count": 5,
     "metadata": {},
     "output_type": "execute_result"
    }
   ],
   "source": [
    "df = pd.read_csv('data/penguin_dataset.csv')\n",
    "df = df.dropna()\n",
    "df.head()"
   ]
  },
  {
   "cell_type": "code",
   "execution_count": 6,
   "id": "a3c6e54d-2403-4f70-b91c-594fe73ac511",
   "metadata": {},
   "outputs": [],
   "source": [
    "x = df.drop('sex', axis=1).to_numpy()\n",
    "y = df['sex']"
   ]
  },
  {
   "cell_type": "code",
   "execution_count": 7,
   "id": "7e7eb6db-6274-496d-84e6-756fd195729b",
   "metadata": {},
   "outputs": [
    {
     "data": {
      "text/html": [
       "<div>\n",
       "<style scoped>\n",
       "    .dataframe tbody tr th:only-of-type {\n",
       "        vertical-align: middle;\n",
       "    }\n",
       "\n",
       "    .dataframe tbody tr th {\n",
       "        vertical-align: top;\n",
       "    }\n",
       "\n",
       "    .dataframe thead th {\n",
       "        text-align: right;\n",
       "    }\n",
       "</style>\n",
       "<table border=\"1\" class=\"dataframe\">\n",
       "  <thead>\n",
       "    <tr style=\"text-align: right;\">\n",
       "      <th></th>\n",
       "      <th>Algorithm</th>\n",
       "      <th>Accuracy</th>\n",
       "      <th>Time</th>\n",
       "    </tr>\n",
       "  </thead>\n",
       "  <tbody>\n",
       "    <tr>\n",
       "      <th>2</th>\n",
       "      <td>random_forest</td>\n",
       "      <td>0.773810</td>\n",
       "      <td>0s</td>\n",
       "    </tr>\n",
       "    <tr>\n",
       "      <th>4</th>\n",
       "      <td>support_vector_machine</td>\n",
       "      <td>0.761905</td>\n",
       "      <td>0s</td>\n",
       "    </tr>\n",
       "    <tr>\n",
       "      <th>0</th>\n",
       "      <td>classic_classification</td>\n",
       "      <td>0.750000</td>\n",
       "      <td>0s</td>\n",
       "    </tr>\n",
       "    <tr>\n",
       "      <th>5</th>\n",
       "      <td>k-nearest_neighbors</td>\n",
       "      <td>0.750000</td>\n",
       "      <td>0s</td>\n",
       "    </tr>\n",
       "    <tr>\n",
       "      <th>6</th>\n",
       "      <td>multi_layer_perceptron</td>\n",
       "      <td>0.750000</td>\n",
       "      <td>1s</td>\n",
       "    </tr>\n",
       "    <tr>\n",
       "      <th>3</th>\n",
       "      <td>gradient_boosting</td>\n",
       "      <td>0.738095</td>\n",
       "      <td>0s</td>\n",
       "    </tr>\n",
       "    <tr>\n",
       "      <th>1</th>\n",
       "      <td>decision_tree</td>\n",
       "      <td>0.714286</td>\n",
       "      <td>1s</td>\n",
       "    </tr>\n",
       "  </tbody>\n",
       "</table>\n",
       "</div>"
      ],
      "text/plain": [
       "                Algorithm  Accuracy Time\n",
       "2           random_forest  0.773810   0s\n",
       "4  support_vector_machine  0.761905   0s\n",
       "0  classic_classification  0.750000   0s\n",
       "5     k-nearest_neighbors  0.750000   0s\n",
       "6  multi_layer_perceptron  0.750000   1s\n",
       "3       gradient_boosting  0.738095   0s\n",
       "1           decision_tree  0.714286   1s"
      ]
     },
     "execution_count": 7,
     "metadata": {},
     "output_type": "execute_result"
    }
   ],
   "source": [
    "testing = machine_learning(x, y)\n",
    "testing.categorical_transform()\n",
    "testing.train_test(categorical=True)\n",
    "testing.scaler(scale='standard')\n",
    "testing.classification()"
   ]
  },
  {
   "cell_type": "code",
   "execution_count": 8,
   "id": "b91ea23c-f5ab-416d-b666-b3b2aa198e76",
   "metadata": {},
   "outputs": [],
   "source": [
    "grid = GridSearchCV(estimator=SVC(), param_grid=svm)\n",
    "# grid = DecisionTreeClassifier(ccp_alpha=0.001, criterion='gini', max_depth=7)"
   ]
  },
  {
   "cell_type": "code",
   "execution_count": 9,
   "id": "4b71a2d4-40a6-4674-9d80-7fc3281f4701",
   "metadata": {},
   "outputs": [
    {
     "data": {
      "text/html": [
       "<style>#sk-container-id-1 {color: black;background-color: white;}#sk-container-id-1 pre{padding: 0;}#sk-container-id-1 div.sk-toggleable {background-color: white;}#sk-container-id-1 label.sk-toggleable__label {cursor: pointer;display: block;width: 100%;margin-bottom: 0;padding: 0.3em;box-sizing: border-box;text-align: center;}#sk-container-id-1 label.sk-toggleable__label-arrow:before {content: \"▸\";float: left;margin-right: 0.25em;color: #696969;}#sk-container-id-1 label.sk-toggleable__label-arrow:hover:before {color: black;}#sk-container-id-1 div.sk-estimator:hover label.sk-toggleable__label-arrow:before {color: black;}#sk-container-id-1 div.sk-toggleable__content {max-height: 0;max-width: 0;overflow: hidden;text-align: left;background-color: #f0f8ff;}#sk-container-id-1 div.sk-toggleable__content pre {margin: 0.2em;color: black;border-radius: 0.25em;background-color: #f0f8ff;}#sk-container-id-1 input.sk-toggleable__control:checked~div.sk-toggleable__content {max-height: 200px;max-width: 100%;overflow: auto;}#sk-container-id-1 input.sk-toggleable__control:checked~label.sk-toggleable__label-arrow:before {content: \"▾\";}#sk-container-id-1 div.sk-estimator input.sk-toggleable__control:checked~label.sk-toggleable__label {background-color: #d4ebff;}#sk-container-id-1 div.sk-label input.sk-toggleable__control:checked~label.sk-toggleable__label {background-color: #d4ebff;}#sk-container-id-1 input.sk-hidden--visually {border: 0;clip: rect(1px 1px 1px 1px);clip: rect(1px, 1px, 1px, 1px);height: 1px;margin: -1px;overflow: hidden;padding: 0;position: absolute;width: 1px;}#sk-container-id-1 div.sk-estimator {font-family: monospace;background-color: #f0f8ff;border: 1px dotted black;border-radius: 0.25em;box-sizing: border-box;margin-bottom: 0.5em;}#sk-container-id-1 div.sk-estimator:hover {background-color: #d4ebff;}#sk-container-id-1 div.sk-parallel-item::after {content: \"\";width: 100%;border-bottom: 1px solid gray;flex-grow: 1;}#sk-container-id-1 div.sk-label:hover label.sk-toggleable__label {background-color: #d4ebff;}#sk-container-id-1 div.sk-serial::before {content: \"\";position: absolute;border-left: 1px solid gray;box-sizing: border-box;top: 0;bottom: 0;left: 50%;z-index: 0;}#sk-container-id-1 div.sk-serial {display: flex;flex-direction: column;align-items: center;background-color: white;padding-right: 0.2em;padding-left: 0.2em;position: relative;}#sk-container-id-1 div.sk-item {position: relative;z-index: 1;}#sk-container-id-1 div.sk-parallel {display: flex;align-items: stretch;justify-content: center;background-color: white;position: relative;}#sk-container-id-1 div.sk-item::before, #sk-container-id-1 div.sk-parallel-item::before {content: \"\";position: absolute;border-left: 1px solid gray;box-sizing: border-box;top: 0;bottom: 0;left: 50%;z-index: -1;}#sk-container-id-1 div.sk-parallel-item {display: flex;flex-direction: column;z-index: 1;position: relative;background-color: white;}#sk-container-id-1 div.sk-parallel-item:first-child::after {align-self: flex-end;width: 50%;}#sk-container-id-1 div.sk-parallel-item:last-child::after {align-self: flex-start;width: 50%;}#sk-container-id-1 div.sk-parallel-item:only-child::after {width: 0;}#sk-container-id-1 div.sk-dashed-wrapped {border: 1px dashed gray;margin: 0 0.4em 0.5em 0.4em;box-sizing: border-box;padding-bottom: 0.4em;background-color: white;}#sk-container-id-1 div.sk-label label {font-family: monospace;font-weight: bold;display: inline-block;line-height: 1.2em;}#sk-container-id-1 div.sk-label-container {text-align: center;}#sk-container-id-1 div.sk-container {/* jupyter's `normalize.less` sets `[hidden] { display: none; }` but bootstrap.min.css set `[hidden] { display: none !important; }` so we also need the `!important` here to be able to override the default hidden behavior on the sphinx rendered scikit-learn.org. See: https://github.com/scikit-learn/scikit-learn/issues/21755 */display: inline-block !important;position: relative;}#sk-container-id-1 div.sk-text-repr-fallback {display: none;}</style><div id=\"sk-container-id-1\" class=\"sk-top-container\"><div class=\"sk-text-repr-fallback\"><pre>GridSearchCV(estimator=SVC(),\n",
       "             param_grid={&#x27;C&#x27;: [0.1, 1, 10, 100, 1000],\n",
       "                         &#x27;degree&#x27;: [1, 2, 3, 4, 5, 6, 7],\n",
       "                         &#x27;gamma&#x27;: [1, 0.1, 0.01, 0.001, 0.0001],\n",
       "                         &#x27;kernel&#x27;: [&#x27;rbf&#x27;, &#x27;linear&#x27;]})</pre><b>In a Jupyter environment, please rerun this cell to show the HTML representation or trust the notebook. <br />On GitHub, the HTML representation is unable to render, please try loading this page with nbviewer.org.</b></div><div class=\"sk-container\" hidden><div class=\"sk-item sk-dashed-wrapped\"><div class=\"sk-label-container\"><div class=\"sk-label sk-toggleable\"><input class=\"sk-toggleable__control sk-hidden--visually\" id=\"sk-estimator-id-1\" type=\"checkbox\" ><label for=\"sk-estimator-id-1\" class=\"sk-toggleable__label sk-toggleable__label-arrow\">GridSearchCV</label><div class=\"sk-toggleable__content\"><pre>GridSearchCV(estimator=SVC(),\n",
       "             param_grid={&#x27;C&#x27;: [0.1, 1, 10, 100, 1000],\n",
       "                         &#x27;degree&#x27;: [1, 2, 3, 4, 5, 6, 7],\n",
       "                         &#x27;gamma&#x27;: [1, 0.1, 0.01, 0.001, 0.0001],\n",
       "                         &#x27;kernel&#x27;: [&#x27;rbf&#x27;, &#x27;linear&#x27;]})</pre></div></div></div><div class=\"sk-parallel\"><div class=\"sk-parallel-item\"><div class=\"sk-item\"><div class=\"sk-label-container\"><div class=\"sk-label sk-toggleable\"><input class=\"sk-toggleable__control sk-hidden--visually\" id=\"sk-estimator-id-2\" type=\"checkbox\" ><label for=\"sk-estimator-id-2\" class=\"sk-toggleable__label sk-toggleable__label-arrow\">estimator: SVC</label><div class=\"sk-toggleable__content\"><pre>SVC()</pre></div></div></div><div class=\"sk-serial\"><div class=\"sk-item\"><div class=\"sk-estimator sk-toggleable\"><input class=\"sk-toggleable__control sk-hidden--visually\" id=\"sk-estimator-id-3\" type=\"checkbox\" ><label for=\"sk-estimator-id-3\" class=\"sk-toggleable__label sk-toggleable__label-arrow\">SVC</label><div class=\"sk-toggleable__content\"><pre>SVC()</pre></div></div></div></div></div></div></div></div></div></div>"
      ],
      "text/plain": [
       "GridSearchCV(estimator=SVC(),\n",
       "             param_grid={'C': [0.1, 1, 10, 100, 1000],\n",
       "                         'degree': [1, 2, 3, 4, 5, 6, 7],\n",
       "                         'gamma': [1, 0.1, 0.01, 0.001, 0.0001],\n",
       "                         'kernel': ['rbf', 'linear']})"
      ]
     },
     "execution_count": 9,
     "metadata": {},
     "output_type": "execute_result"
    }
   ],
   "source": [
    "grid.fit(testing.x_train, testing.y_train)"
   ]
  },
  {
   "cell_type": "code",
   "execution_count": 10,
   "id": "1f09c0a8-7019-411d-95fa-dece0ecc6079",
   "metadata": {},
   "outputs": [
    {
     "name": "stdout",
     "output_type": "stream",
     "text": [
      "SVC(C=10, degree=1, gamma=0.0001)\n",
      "{'C': 10, 'degree': 1, 'gamma': 0.0001, 'kernel': 'rbf'}\n",
      "0.7551836734693879\n"
     ]
    }
   ],
   "source": [
    "print(grid.best_estimator_)\n",
    "print(grid.best_params_)\n",
    "print(grid.best_score_)"
   ]
  },
  {
   "cell_type": "code",
   "execution_count": 11,
   "id": "62c7b46c-4dd7-45de-83ef-7368fa9e5567",
   "metadata": {},
   "outputs": [
    {
     "name": "stdout",
     "output_type": "stream",
     "text": [
      "              precision    recall  f1-score   support\n",
      "\n",
      "      FEMALE       0.79      0.71      0.75        42\n",
      "        MALE       0.74      0.81      0.77        42\n",
      "\n",
      "    accuracy                           0.76        84\n",
      "   macro avg       0.76      0.76      0.76        84\n",
      "weighted avg       0.76      0.76      0.76        84\n",
      "\n"
     ]
    }
   ],
   "source": [
    "pred = grid.predict(testing.x_test)\n",
    "print(classification_report(y_true=testing.y_test, y_pred=pred))"
   ]
  },
  {
   "cell_type": "code",
   "execution_count": 14,
   "id": "fffb1621-12a5-432b-b138-584e8a168627",
   "metadata": {},
   "outputs": [
    {
     "data": {
      "image/png": "[encoded data removed]",
      "text/plain": [
       "<Figure size 640x480 with 2 Axes>"
      ]
     },
     "metadata": {},
     "output_type": "display_data"
    }
   ],
   "source": [
    "ConfusionMatrixDisplay.from_predictions(y_true=testing.y_test, y_pred=pred);"
   ]
  },
  {
   "cell_type": "code",
   "execution_count": 12,
   "id": "2c2972c2-84c7-46d8-9b5f-908715d55868",
   "metadata": {},
   "outputs": [],
   "source": [
    "#encoder.inverse_transform(x_encoded)"
   ]
  },
  {
   "cell_type": "raw",
   "id": "fc4e3a35-b995-49d3-8188-1fdfca6a7bd9",
   "metadata": {},
   "source": [
    "x_train, x_test, y_train, y_test = train_test_split(x_encoded, y, random_state=42, stratify=y)\n",
    "clf = DecisionTreeClassifier()\n",
    "clf.fit(x_train, y_train)\n",
    "y_pred = clf.predict(x_test)\n",
    "print(classification_report(y_true=y_test, y_pred=y_pred))"
   ]
  }
 ],
 "metadata": {
  "kernelspec": {
   "display_name": "Python 3 (ipykernel)",
   "language": "python",
   "name": "python3"
  },
  "language_info": {
   "codemirror_mode": {
    "name": "ipython",
    "version": 3
   },
   "file_extension": ".py",
   "mimetype": "text/x-python",
   "name": "python",
   "nbconvert_exporter": "python",
   "pygments_lexer": "ipython3",
   "version": "3.11.2"
  }
 },
 "nbformat": 4,
 "nbformat_minor": 5
}
